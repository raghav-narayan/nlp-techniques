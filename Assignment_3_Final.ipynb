{
 "cells": [
  {
   "cell_type": "markdown",
   "metadata": {
    "colab_type": "text",
    "id": "h9464I-uxLiw"
   },
   "source": [
    "# Assignment"
   ]
  },
  {
   "cell_type": "markdown",
   "metadata": {
    "colab_type": "text",
    "id": "IvLvmewlxLix"
   },
   "source": [
    "<font face='georgia'>\n",
    "    \n",
    "   <h4><strong>What does tf-idf mean?</strong></h4>\n",
    "\n",
    "   <p>    \n",
    "Tf-idf stands for <em>term frequency-inverse document frequency</em>, and the tf-idf weight is a weight often used in information retrieval and text mining. This weight is a statistical measure used to evaluate how important a word is to a document in a collection or corpus. The importance increases proportionally to the number of times a word appears in the document but is offset by the frequency of the word in the corpus. Variations of the tf-idf weighting scheme are often used by search engines as a central tool in scoring and ranking a document's relevance given a user query.\n",
    "</p>\n",
    "    \n",
    "   <p>\n",
    "One of the simplest ranking functions is computed by summing the tf-idf for each query term; many more sophisticated ranking functions are variants of this simple model.\n",
    "</p>\n",
    "    \n",
    "   <p>\n",
    "Tf-idf can be successfully used for stop-words filtering in various subject fields including text summarization and classification.\n",
    "</p>\n",
    "    \n",
    "</font>"
   ]
  },
  {
   "cell_type": "markdown",
   "metadata": {
    "colab_type": "text",
    "id": "4XLaGFUMxLiy"
   },
   "source": [
    "<font face='georgia'>\n",
    "    <h4><strong>How to Compute:</strong></h4>\n",
    "\n",
    "Typically, the tf-idf weight is composed by two terms: the first computes the normalized Term Frequency (TF), aka. the number of times a word appears in a document, divided by the total number of words in that document; the second term is the Inverse Document Frequency (IDF), computed as the logarithm of the number of the documents in the corpus divided by the number of documents where the specific term appears.\n",
    "\n",
    " <ul>\n",
    "    <li>\n",
    "<strong>TF:</strong> Term Frequency, which measures how frequently a term occurs in a document. Since every document is different in length, it is possible that a term would appear much more times in long documents than shorter ones. Thus, the term frequency is often divided by the document length (aka. the total number of terms in the document) as a way of normalization: <br>\n",
    "\n",
    "$TF(t) = \\frac{\\text{Number of times term t appears in a document}}{\\text{Total number of terms in the document}}.$\n",
    "</li>\n",
    "<li>\n",
    "<strong>IDF:</strong> Inverse Document Frequency, which measures how important a term is. While computing TF, all terms are considered equally important. However it is known that certain terms, such as \"is\", \"of\", and \"that\", may appear a lot of times but have little importance. Thus we need to weigh down the frequent terms while scale up the rare ones, by computing the following: <br>\n",
    "\n",
    "$IDF(t) = \\log_{e}\\frac{\\text{Total  number of documents}} {\\text{Number of documents with term t in it}}.$\n",
    "for numerical stabiltiy we will be changing this formula little bit\n",
    "$IDF(t) = \\log_{e}\\frac{\\text{Total  number of documents}} {\\text{Number of documents with term t in it}+1}.$\n",
    "</li>\n",
    "</ul>\n",
    "\n",
    "<br>\n",
    "<h4><strong>Example</strong></h4>\n",
    "<p>\n",
    "\n",
    "Consider a document containing 100 words wherein the word cat appears 3 times. The term frequency (i.e., tf) for cat is then (3 / 100) = 0.03. Now, assume we have 10 million documents and the word cat appears in one thousand of these. Then, the inverse document frequency (i.e., idf) is calculated as log(10,000,000 / 1,000) = 4. Thus, the Tf-idf weight is the product of these quantities: 0.03 * 4 = 0.12.\n",
    "</p>\n",
    "</font>"
   ]
  },
  {
   "cell_type": "markdown",
   "metadata": {
    "colab_type": "text",
    "id": "dg2ooa4DxLiz"
   },
   "source": [
    "## Task-1"
   ]
  },
  {
   "cell_type": "markdown",
   "metadata": {
    "colab_type": "text",
    "id": "TAcTjhO8xLiz"
   },
   "source": [
    "<font face='georgia'>\n",
    "    <h4><strong>1. Build a TFIDF Vectorizer & compare its results with Sklearn:</strong></h4>\n",
    "\n",
    "<ul>\n",
    "    <li> As a part of this task you will be implementing TFIDF vectorizer on a collection of text documents.</li>\n",
    "    <br>\n",
    "    <li> You should compare the results of your own implementation of TFIDF vectorizer with that of sklearns implemenation TFIDF vectorizer.</li>\n",
    "    <br>\n",
    "    <li> Sklearn does few more tweaks in the implementation of its version of TFIDF vectorizer, so to replicate the exact results you would need to add following things to your custom implementation of tfidf vectorizer:\n",
    "       <ol>\n",
    "        <li> Sklearn has its vocabulary generated from idf sroted in alphabetical order</li>\n",
    "        <li> Sklearn formula of idf is different from the standard textbook formula. Here the constant <strong>\"1\"</strong> is added to the numerator and denominator of the idf as if an extra document was seen containing every term in the collection exactly once, which prevents zero divisions.\n",
    "            \n",
    " $IDF(t) = 1+\\log_{e}\\frac{1\\text{ }+\\text{ Total  number of documents in collection}} {1+\\text{Number of documents with term t in it}}.$\n",
    "        </li>\n",
    "        <li> Sklearn applies L2-normalization on its output matrix.</li>\n",
    "        <li> The final output of sklearn tfidf vectorizer is a sparse matrix.</li>\n",
    "    </ol>\n",
    "    <br>\n",
    "    <li>Steps to approach this task:\n",
    "    <ol>\n",
    "        <li> You would have to write both fit and transform methods for your custom implementation of tfidf vectorizer.</li>\n",
    "        <li> Print out the alphabetically sorted voacb after you fit your data and check if its the same as that of the feature names from sklearn tfidf vectorizer. </li>\n",
    "        <li> Print out the idf values from your implementation and check if its the same as that of sklearns tfidf vectorizer idf values. </li>\n",
    "        <li> Once you get your voacb and idf values to be same as that of sklearns implementation of tfidf vectorizer, proceed to the below steps. </li>\n",
    "        <li> Make sure the output of your implementation is a sparse matrix. Before generating the final output, you need to normalize your sparse matrix using L2 normalization. You can refer to this link https://scikit-learn.org/stable/modules/generated/sklearn.preprocessing.normalize.html </li>\n",
    "        <li> After completing the above steps, print the output of your custom implementation and compare it with sklearns implementation of tfidf vectorizer.</li>\n",
    "        <li> To check the output of a single document in your collection of documents,  you can convert the sparse matrix related only to that document into dense matrix and print it.</li>\n",
    "        </ol>\n",
    "    </li>\n",
    "    <br>\n",
    "   </ul>\n",
    "\n",
    "  <p> <font color=\"#e60000\"><strong>Note-1: </strong></font> All the necessary outputs of sklearns tfidf vectorizer have been provided as reference in this notebook, you can compare your outputs as mentioned in the above steps, with these outputs.<br>\n",
    "   <font color=\"#e60000\"><strong>Note-2: </strong></font> The output of your custom implementation and that of sklearns implementation would match only with the collection of document strings provided to you as reference in this notebook. It would not match for strings that contain capital letters or punctuations, etc, because sklearn version of tfidf vectorizer deals with such strings in a different way. To know further details about how sklearn tfidf vectorizer works with such string, you can always refer to its official documentation.<br>\n",
    "   <font color=\"#e60000\"><strong>Note-3: </strong></font> During this task, it would be helpful for you to debug the code you write with print statements wherever necessary. But when you are finally submitting the assignment, make sure your code is readable and try not to print things which are not part of this task.\n",
    "    </p>"
   ]
  },
  {
   "cell_type": "markdown",
   "metadata": {
    "colab_type": "text",
    "id": "OnV82tg1xLi0"
   },
   "source": [
    "### Corpus"
   ]
  },
  {
   "cell_type": "code",
   "execution_count": 221,
   "metadata": {
    "colab": {},
    "colab_type": "code",
    "id": "bUsYm9wjxLi1"
   },
   "outputs": [],
   "source": [
    "## SkLearn# Collection of string documents\n",
    "\n",
    "corpus = [\n",
    "     'this is the first document',\n",
    "     'this document is the second document',\n",
    "     'and this is the third one',\n",
    "     'is this the first document',\n",
    "]"
   ]
  },
  {
   "cell_type": "markdown",
   "metadata": {
    "colab_type": "text",
    "id": "eLwmFZfKxLi4"
   },
   "source": [
    "### SkLearn Implementation"
   ]
  },
  {
   "cell_type": "code",
   "execution_count": 19,
   "metadata": {
    "colab": {},
    "colab_type": "code",
    "id": "Np4dfQOkxLi4"
   },
   "outputs": [],
   "source": [
    "from sklearn.feature_extraction.text import TfidfVectorizer\n",
    "vectorizer = TfidfVectorizer()\n",
    "vectorizer.fit(corpus)\n",
    "skl_output = vectorizer.transform(corpus)"
   ]
  },
  {
   "cell_type": "code",
   "execution_count": 20,
   "metadata": {
    "colab": {},
    "colab_type": "code",
    "id": "-7Om8YpYxLi6",
    "outputId": "0a3bd0f5-4424-4400-944f-4482a80bd799"
   },
   "outputs": [
    {
     "name": "stdout",
     "output_type": "stream",
     "text": [
      "['and', 'document', 'first', 'is', 'one', 'second', 'the', 'third', 'this']\n"
     ]
    }
   ],
   "source": [
    "# sklearn feature names, they are sorted in alphabetic order by default.\n",
    "\n",
    "print(vectorizer.get_feature_names())"
   ]
  },
  {
   "cell_type": "code",
   "execution_count": 21,
   "metadata": {
    "colab": {},
    "colab_type": "code",
    "id": "dTKplK96xLi-",
    "outputId": "53722fa2-6756-4aa0-f179-37b578bb6890"
   },
   "outputs": [
    {
     "name": "stdout",
     "output_type": "stream",
     "text": [
      "[1.91629073 1.22314355 1.51082562 1.         1.91629073 1.91629073\n",
      " 1.         1.91629073 1.        ]\n"
     ]
    }
   ],
   "source": [
    "# Here we will print the sklearn tfidf vectorizer idf values after applying the fit method\n",
    "# After using the fit function on the corpus the vocab has 9 words in it, and each has its idf value.\n",
    "\n",
    "print(vectorizer.idf_)"
   ]
  },
  {
   "cell_type": "code",
   "execution_count": 22,
   "metadata": {
    "colab": {},
    "colab_type": "code",
    "id": "-CTiWHygxLjA",
    "outputId": "8d5a9cde-2c29-4afe-f7b4-1547e88dba4f"
   },
   "outputs": [
    {
     "data": {
      "text/plain": [
       "(4, 9)"
      ]
     },
     "execution_count": 22,
     "metadata": {},
     "output_type": "execute_result"
    }
   ],
   "source": [
    "# shape of sklearn tfidf vectorizer output after applying transform method.\n",
    "\n",
    "skl_output.shape"
   ]
  },
  {
   "cell_type": "code",
   "execution_count": 40,
   "metadata": {
    "colab": {},
    "colab_type": "code",
    "id": "bDKEpbA-xLjD",
    "outputId": "87dafd65-5313-443f-8c6e-1b05cc8c2543"
   },
   "outputs": [
    {
     "name": "stdout",
     "output_type": "stream",
     "text": [
      "  (0, 8)\t0.38408524091481483\n",
      "  (0, 6)\t0.38408524091481483\n",
      "  (0, 3)\t0.38408524091481483\n",
      "  (0, 2)\t0.5802858236844359\n",
      "  (0, 1)\t0.46979138557992045\n"
     ]
    }
   ],
   "source": [
    "# sklearn tfidf values for first line of the above corpus.\n",
    "# Here the output is a sparse matrix\n",
    "\n",
    "print(skl_output[0])"
   ]
  },
  {
   "cell_type": "code",
   "execution_count": 39,
   "metadata": {
    "colab": {},
    "colab_type": "code",
    "id": "3QWo34hexLjF",
    "outputId": "cdc04e08-989f-4bdc-dd7f-f1c82a9f90be"
   },
   "outputs": [
    {
     "name": "stdout",
     "output_type": "stream",
     "text": [
      "[[0.         0.46979139 0.58028582 0.38408524 0.         0.\n",
      "  0.38408524 0.         0.38408524]]\n"
     ]
    }
   ],
   "source": [
    "# sklearn tfidf values for first line of the above corpus.\n",
    "# To understand the output better, here we are converting the sparse output matrix to dense matrix and printing it.\n",
    "# Notice that this output is normalized using L2 normalization. sklearn does this by default.\n",
    "\n",
    "print(skl_output[0].toarray())"
   ]
  },
  {
   "cell_type": "markdown",
   "metadata": {
    "colab_type": "text",
    "id": "qfIwx5LzxLjI"
   },
   "source": [
    "### Your custom implementation"
   ]
  },
  {
   "cell_type": "code",
   "execution_count": 3,
   "metadata": {
    "colab": {},
    "colab_type": "code",
    "id": "HjuCcJwXxLjJ"
   },
   "outputs": [],
   "source": [
    "# Write your code here.\n",
    "# Make sure its well documented and readble with appropriate comments.\n",
    "# Compare your results with the above sklearn tfidf vectorizer\n",
    "# You are not supposed to use any other library apart from the ones given below\n",
    "\n",
    "from collections import Counter\n",
    "from tqdm import tqdm\n",
    "from scipy.sparse import csr_matrix\n",
    "import math\n",
    "import operator\n",
    "from sklearn.preprocessing import normalize\n",
    "import numpy"
   ]
  },
  {
   "cell_type": "code",
   "execution_count": 225,
   "metadata": {},
   "outputs": [],
   "source": [
    "def fit(corpus):\n",
    "    \"\"\"Accepts a corpus of documents of list-type only and returns a list of \n",
    "    unique of words sorted alhabetically and corresponding idf scores\"\"\"\n",
    "    unique_words=set() #set to store unique_words\n",
    "    \n",
    "    if isinstance(corpus, (list,)): #checking if corpus is list type or not\n",
    "        for idx,sentence in enumerate(corpus): #for each sentence in corpus\n",
    "            for word in sentence.split(\" \"): #for each word in a particular sentence\n",
    "                if len(word) < 2: #ignoring words less than size=2\n",
    "                    continue\n",
    "                unique_words.add(word)\n",
    "        unique_words = sorted(list(unique_words)) #sorting alphabetically\n",
    "        idf =[] #list to store of idf_score of each unique word\n",
    "        for word in vocab:\n",
    "            idf.append(compute_IDF(word))\n",
    "        idf=numpy.array(idf)\n",
    "        return unique_words,idf #returning vocabulary and idf_scores\n",
    "    \n",
    "    else:\n",
    "        return \"You need to pass a list of sentences\"\n",
    "        \n",
    "vocab,idf=fit(corpus)\n",
    "\n"
   ]
  },
  {
   "cell_type": "code",
   "execution_count": 226,
   "metadata": {},
   "outputs": [
    {
     "name": "stdout",
     "output_type": "stream",
     "text": [
      "['and', 'document', 'first', 'is', 'one', 'second', 'the', 'third', 'this']\n"
     ]
    }
   ],
   "source": [
    "print(vocab) #vocabulary sorted alphabetically"
   ]
  },
  {
   "cell_type": "code",
   "execution_count": 227,
   "metadata": {},
   "outputs": [
    {
     "name": "stdout",
     "output_type": "stream",
     "text": [
      "[1.91629073 1.22314355 1.51082562 1.         1.91629073 1.91629073\n",
      " 1.         1.91629073 1.        ]\n"
     ]
    }
   ],
   "source": [
    "print(idf) #idf_scores of the vocabulary"
   ]
  },
  {
   "cell_type": "code",
   "execution_count": 197,
   "metadata": {},
   "outputs": [],
   "source": [
    "#['and', 'document', 'first', 'is', 'one', 'second', 'the', 'third', 'this']\n",
    "#[1.91629073 1.22314355 1.51082562 1.         1.91629073 1.91629073\n",
    "# 1.         1.91629073 1.        ]\n",
    "def compute_IDF(word):\n",
    "    \"\"\"Computing IDF value of a word according to sklearn formula\"\"\"\n",
    "    N = len(corpus)+1 #Number of documents in corpus\n",
    "    n_i=1 #To store the number of documents a particular term appears in.\n",
    "    for sentence in corpus: #for each sentence \n",
    "        for term in sentence.split(\" \"): #for each word\n",
    "            if word==term: #checking if word is present in \n",
    "                n_i+=1\n",
    "                break\n",
    "    final_term=N/n_i\n",
    "    return 1+numpy.log(final_term)\n"
   ]
  },
  {
   "cell_type": "code",
   "execution_count": 201,
   "metadata": {},
   "outputs": [],
   "source": [
    "def compute_TF(sentence):\n",
    "    \"\"\"Computes the TF_score for each word given an input sentence\n",
    "    and returns a dict in form {word:tf_score}\"\"\"\n",
    "    a=dict(Counter(sentence.split()))\n",
    "    for key,value in a.items():\n",
    "        a[key] = float(value/len(sentence.split()))\n",
    "    return a\n",
    "\n",
    "#tf values"
   ]
  },
  {
   "cell_type": "code",
   "execution_count": 228,
   "metadata": {},
   "outputs": [
    {
     "name": "stderr",
     "output_type": "stream",
     "text": [
      "100%|██████████████████████████████████████████████████████████████████████████████████| 4/4 [00:00<00:00, 2004.69it/s]\n"
     ]
    }
   ],
   "source": [
    "def transform(corpus,vocab):\n",
    "    \"\"\"Acquires the input corpus and vocabulary of unique words and converts the corpus into a sparse matrix\"\"\"\n",
    "    rows=[] # \n",
    "    cols=[]\n",
    "    values=[]\n",
    "    if isinstance(corpus, (list,)):\n",
    "        for idx,sentence in enumerate(tqdm(corpus)): # for each document in the dataset\n",
    "            tf_value=compute_TF(sentence) #returns a dict in the form {word:tf_value}\n",
    "             # for every unique word in the document\n",
    "            for word,tf in tf_value.items():\n",
    "                if len(word)<2:\n",
    "                    continue\n",
    "                col_index = vocab.index(word) if word in vocab else -1 #getting the index of dimension number pertaining to the given word\n",
    "                if col_index!=-1:\n",
    "                    rows.append(idx) #document index number corresponds to row number\n",
    "                    cols.append(col_index) #storing the column index\n",
    "                    values.append(tf_value[word]*idf[col_index]) #sotring non-zero tf-idf scores in list\n",
    "        X=csr_matrix((values,(rows,cols)),shape=(len(corpus),len(vocab))) #converting into a sparse matrix of size len(corpus),len(vocab)\n",
    "        return normalize(X,norm='l2') #L2 Normalization\n",
    "    else:\n",
    "        print(\"You need to pass a list of strings\")\n",
    "output=transform(corpus,vocab)       \n"
   ]
  },
  {
   "cell_type": "code",
   "execution_count": 230,
   "metadata": {},
   "outputs": [
    {
     "name": "stdout",
     "output_type": "stream",
     "text": [
      "  (0, 1)\t0.4697913855799205\n",
      "  (0, 2)\t0.580285823684436\n",
      "  (0, 3)\t0.3840852409148149\n",
      "  (0, 6)\t0.3840852409148149\n",
      "  (0, 8)\t0.3840852409148149\n"
     ]
    }
   ],
   "source": [
    "print(output[0]) #Sparse representation of first document"
   ]
  },
  {
   "cell_type": "code",
   "execution_count": 231,
   "metadata": {},
   "outputs": [
    {
     "data": {
      "text/plain": [
       "(1, 9)"
      ]
     },
     "execution_count": 231,
     "metadata": {},
     "output_type": "execute_result"
    }
   ],
   "source": [
    "output[0].shape #Each tf-idf vector is 9 dimensional = len(vocab)"
   ]
  },
  {
   "cell_type": "code",
   "execution_count": 232,
   "metadata": {},
   "outputs": [
    {
     "name": "stdout",
     "output_type": "stream",
     "text": [
      "[[0.         0.46979139 0.58028582 0.38408524 0.         0.\n",
      "  0.38408524 0.         0.38408524]]\n"
     ]
    }
   ],
   "source": [
    "print(output[0].toarray()) #Dense representation of tf-idf vector corresponding to first document"
   ]
  },
  {
   "cell_type": "markdown",
   "metadata": {
    "colab_type": "text",
    "id": "MMxBmVZExLjK"
   },
   "source": [
    "## Task-2"
   ]
  },
  {
   "cell_type": "markdown",
   "metadata": {
    "colab_type": "text",
    "id": "51j_OtqAxLjL"
   },
   "source": [
    "<font face='georgia'>\n",
    "    <h4><strong>2. Implement max features functionality:</strong></h4>\n",
    "\n",
    "<ul>\n",
    "    <li> As a part of this task you have to modify your fit and transform functions so that your vocab will contain only 50 terms with top idf scores.</li>\n",
    "    <br>\n",
    "    <li>This task is similar to your previous task, just that here your vocabulary is limited to only top 50 features names based on their idf values. Basically your output will have exactly 50 columns and the number of rows will depend on the number of documents you have in your corpus.</li>\n",
    "    <br>\n",
    "    <li>Here you will be give a pickle file, with file name <strong>cleaned_strings</strong>. You would have to load the corpus from this file and use it as input to your tfidf vectorizer.</li>\n",
    "    <br>\n",
    "    <li>Steps to approach this task:\n",
    "    <ol>\n",
    "        <li> You would have to write both fit and transform methods for your custom implementation of tfidf vectorizer, just like in the previous task. Additionally, here you have to limit the number of features generated to 50 as described above.</li>\n",
    "        <li> Now sort your vocab based in descending order of idf values and print out the words in the sorted voacb after you fit your data. Here you should be getting only 50 terms in your vocab. And make sure to print idf values for each term in your vocab. </li>\n",
    "        <li> Make sure the output of your implementation is a sparse matrix. Before generating the final output, you need to normalize your sparse matrix using L2 normalization. You can refer to this link https://scikit-learn.org/stable/modules/generated/sklearn.preprocessing.normalize.html </li>\n",
    "        <li> Now check the output of a single document in your collection of documents,  you can convert the sparse matrix related only to that document into dense matrix and print it. And this dense matrix should contain 1 row and 50 columns. </li>\n",
    "        </ol>\n",
    "    </li>\n",
    "    <br>\n",
    "   </ul>"
   ]
  },
  {
   "cell_type": "code",
   "execution_count": 208,
   "metadata": {
    "colab": {},
    "colab_type": "code",
    "id": "NHxPLlwNxLjL",
    "outputId": "9abd8e08-0e24-4975-9a13-4d3636d60323"
   },
   "outputs": [
    {
     "name": "stdout",
     "output_type": "stream",
     "text": [
      "Number of documents in corpus =  746\n"
     ]
    }
   ],
   "source": [
    "# Below is the code to load the cleaned_strings pickle file provided\n",
    "# Here corpus is of list type\n",
    "\n",
    "import pickle\n",
    "with open('cleaned_strings', 'rb') as f:\n",
    "    corpus = pickle.load(f)\n",
    "    \n",
    "# printing the length of the corpus loaded\n",
    "print(\"Number of documents in corpus = \",len(corpus))\n"
   ]
  },
  {
   "cell_type": "code",
   "execution_count": 209,
   "metadata": {
    "colab": {},
    "colab_type": "code",
    "id": "ZULfoOIdxLjQ"
   },
   "outputs": [],
   "source": [
    "# Write your code here.\n",
    "# Try not to hardcode any values.\n",
    "# Make sure its well documented and readble with appropriate comments.\n",
    "#Reference: https://www.dr-chuck.com/csev-blog/2010/01/fun-python-syntax-operator-itemgetter-sorted-and-lambda-functions-oh-my/\n",
    "def modified_fit(corpus):\n",
    "    \"\"\"Taking the previous implementation of custom TF-IDF vectorizer and \n",
    "        returning the vocabulary and idf_scores of top 50 words\"\"\"\n",
    "    unique_words=set()\n",
    "    \n",
    "    if isinstance(corpus, (list,)):\n",
    "        for idx,sentence in enumerate(corpus):\n",
    "            for word in sentence.split(\" \"):\n",
    "                if len(word) < 2:\n",
    "                    continue\n",
    "                unique_words.add(word)\n",
    "        unique_words = sorted(list(unique_words))\n",
    "        vocab=unique_words\n",
    "        idf =[] #idf_scores\n",
    "        for word in vocab:\n",
    "            idf.append(compute_IDF(word))\n",
    "        idf=numpy.array(idf)\n",
    "        voc=dict() #dict to store association between the word and idf_score vocabulary\n",
    "        for i in range(len(vocab)):\n",
    "            voc[vocab[i]]=idf[i]\n",
    "        #sorting the vocabulary based on top 50 idf scores and storing in form of tuples (word,idf_scores)\n",
    "        top_50=sorted(voc.items(), key=operator.itemgetter(1), reverse=True)[0:50] \n",
    "        lst=[word for word,idf in top_50] #top 50 words\n",
    "        idf_scores=[idf for word,idf in top_50] #top 5 idf_scores corresponding to vocab\n",
    "        idf_scores = numpy.array(idf_scores)\n",
    "        return lst,idf_scores\n",
    "    \n",
    "    else:\n",
    "        return \"You need to pass a list of sentences\"\n",
    "        \n",
    "vocab,idf = modified_fit(corpus)     \n"
   ]
  },
  {
   "cell_type": "code",
   "execution_count": 210,
   "metadata": {
    "colab": {},
    "colab_type": "code",
    "id": "1_DJnnR3xLjR"
   },
   "outputs": [
    {
     "name": "stdout",
     "output_type": "stream",
     "text": [
      "['aailiyah', 'abandoned', 'abroad', 'abstruse', 'academy', 'accents', 'accessible', 'acclaimed', 'accolades', 'accurate', 'accurately', 'achille', 'ackerman', 'actions', 'adams', 'add', 'added', 'admins', 'admiration', 'admitted', 'adrift', 'adventure', 'aesthetically', 'affected', 'affleck', 'afternoon', 'aged', 'ages', 'agree', 'agreed', 'aimless', 'aired', 'akasha', 'akin', 'alert', 'alike', 'allison', 'allow', 'allowing', 'alongside', 'amateurish', 'amaze', 'amazed', 'amazingly', 'amusing', 'amust', 'anatomist', 'angel', 'angela', 'angelina']\n"
     ]
    }
   ],
   "source": [
    "print(vocab) # list of 50 words based on top 50 idf_scores \n"
   ]
  },
  {
   "cell_type": "code",
   "execution_count": 211,
   "metadata": {},
   "outputs": [
    {
     "name": "stdout",
     "output_type": "stream",
     "text": [
      "[6.922918 6.922918 6.922918 6.922918 6.922918 6.922918 6.922918 6.922918\n",
      " 6.922918 6.922918 6.922918 6.922918 6.922918 6.922918 6.922918 6.922918\n",
      " 6.922918 6.922918 6.922918 6.922918 6.922918 6.922918 6.922918 6.922918\n",
      " 6.922918 6.922918 6.922918 6.922918 6.922918 6.922918 6.922918 6.922918\n",
      " 6.922918 6.922918 6.922918 6.922918 6.922918 6.922918 6.922918 6.922918\n",
      " 6.922918 6.922918 6.922918 6.922918 6.922918 6.922918 6.922918 6.922918\n",
      " 6.922918 6.922918]\n"
     ]
    }
   ],
   "source": [
    "print(idf) #top 50 idf_scores"
   ]
  },
  {
   "cell_type": "code",
   "execution_count": 212,
   "metadata": {},
   "outputs": [
    {
     "name": "stderr",
     "output_type": "stream",
     "text": [
      "100%|█████████████████████████████████████████████████████████████████████████████| 746/746 [00:00<00:00, 10840.59it/s]\n"
     ]
    }
   ],
   "source": [
    "def modified_transform(corpus,vocab):\n",
    "    \"\"\"Modifiying the previusly implemented tf-idf vectorization and returning a \n",
    "    sparse matrix of 50 dimensions of words corresponding to top 50 idf_scores\"\"\"\n",
    "    rows=[]\n",
    "    cols=[]\n",
    "    values=[]\n",
    "    if isinstance(corpus, (list,)):\n",
    "        for idx,sentence in enumerate(tqdm(corpus)):\n",
    "            tf_value=compute_TF(sentence) #{word:tf_value}\n",
    "            \n",
    "            for word,tf in tf_value.items():\n",
    "                if len(word)<2:\n",
    "                    continue\n",
    "                col_index = vocab.index(word) if word in vocab else -1\n",
    "                if col_index!=-1:\n",
    "                    rows.append(idx)\n",
    "                    cols.append(col_index)\n",
    "                    values.append(tf_value[word]*idf[col_index])\n",
    "        X=csr_matrix((values,(rows,cols)),shape=(len(corpus),len(vocab)))\n",
    "        return normalize(X,norm='l2')\n",
    "    else:\n",
    "        print(\"You need to pass a list of strings\")\n",
    "\n",
    "output=modified_transform(corpus,vocab)"
   ]
  },
  {
   "cell_type": "code",
   "execution_count": 215,
   "metadata": {},
   "outputs": [
    {
     "name": "stdout",
     "output_type": "stream",
     "text": [
      "(1, 50)\n"
     ]
    }
   ],
   "source": [
    "print(output[68].shape) #Shape of 68th sparse matrix document after vectorization 50-> #No of features"
   ]
  },
  {
   "cell_type": "code",
   "execution_count": 217,
   "metadata": {},
   "outputs": [
    {
     "name": "stdout",
     "output_type": "stream",
     "text": [
      "  (0, 24)\t1.0\n"
     ]
    }
   ],
   "source": [
    "print(output[68]) #Sparse matrix output of 68th document"
   ]
  },
  {
   "cell_type": "code",
   "execution_count": 216,
   "metadata": {},
   "outputs": [
    {
     "name": "stdout",
     "output_type": "stream",
     "text": [
      "[[0. 0. 0. 0. 0. 0. 0. 0. 0. 0. 0. 0. 0. 0. 0. 0. 0. 0. 0. 0. 0. 0. 0. 0.\n",
      "  1. 0. 0. 0. 0. 0. 0. 0. 0. 0. 0. 0. 0. 0. 0. 0. 0. 0. 0. 0. 0. 0. 0. 0.\n",
      "  0. 0.]]\n"
     ]
    }
   ],
   "source": [
    "print(output[68].toarray()) #Dense representation of 68th matrix"
   ]
  },
  {
   "cell_type": "code",
   "execution_count": 218,
   "metadata": {},
   "outputs": [
    {
     "name": "stdout",
     "output_type": "stream",
     "text": [
      "(1, 50)\n"
     ]
    }
   ],
   "source": [
    "print(output[0].shape) #Shape of first sparse matrix document after vectorization 50-> #No of features"
   ]
  },
  {
   "cell_type": "code",
   "execution_count": 219,
   "metadata": {},
   "outputs": [
    {
     "name": "stdout",
     "output_type": "stream",
     "text": [
      "  (0, 30)\t1.0\n"
     ]
    }
   ],
   "source": [
    "print(output[0]) #Sparse matrix output of first document"
   ]
  },
  {
   "cell_type": "code",
   "execution_count": 220,
   "metadata": {},
   "outputs": [
    {
     "name": "stdout",
     "output_type": "stream",
     "text": [
      "[[0. 0. 0. 0. 0. 0. 0. 0. 0. 0. 0. 0. 0. 0. 0. 0. 0. 0. 0. 0. 0. 0. 0. 0.\n",
      "  0. 0. 0. 0. 0. 0. 1. 0. 0. 0. 0. 0. 0. 0. 0. 0. 0. 0. 0. 0. 0. 0. 0. 0.\n",
      "  0. 0.]]\n"
     ]
    }
   ],
   "source": [
    "print(output[0].toarray()) #Dense representation of first document"
   ]
  },
  {
   "cell_type": "code",
   "execution_count": null,
   "metadata": {},
   "outputs": [],
   "source": []
  }
 ],
 "metadata": {
  "colab": {
   "collapsed_sections": [],
   "name": "Assignment_3_Instructions.ipynb",
   "provenance": []
  },
  "kernelspec": {
   "display_name": "Python 3",
   "language": "python",
   "name": "python3"
  },
  "language_info": {
   "codemirror_mode": {
    "name": "ipython",
    "version": 3
   },
   "file_extension": ".py",
   "mimetype": "text/x-python",
   "name": "python",
   "nbconvert_exporter": "python",
   "pygments_lexer": "ipython3",
   "version": "3.6.5"
  }
 },
 "nbformat": 4,
 "nbformat_minor": 1
}
